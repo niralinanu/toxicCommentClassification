{
 "cells": [
  {
   "cell_type": "code",
   "execution_count": 1,
   "metadata": {},
   "outputs": [
    {
     "name": "stderr",
     "output_type": "stream",
     "text": [
      "C:\\Users\\Nanu\\Anaconda3-1\\lib\\site-packages\\sklearn\\cross_validation.py:41: DeprecationWarning: This module was deprecated in version 0.18 in favor of the model_selection module into which all the refactored classes and functions are moved. Also note that the interface of the new CV iterators are different from that of this module. This module will be removed in 0.20.\n",
      "  \"This module will be removed in 0.20.\", DeprecationWarning)\n"
     ]
    }
   ],
   "source": [
    "import pandas as pd\n",
    "import numpy as np \n",
    "from sklearn.feature_extraction.text import CountVectorizer, TfidfVectorizer\n",
    "import nltk\n",
    "from nltk.corpus import stopwords\n",
    "from nltk.tokenize import word_tokenize\n",
    "from nltk.stem import WordNetLemmatizer\n",
    "import re\n",
    "import seaborn as sns\n",
    "import matplotlib.pyplot as plt\n",
    "from sklearn.cross_validation import train_test_split\n",
    "from sklearn.linear_model import LogisticRegression\n",
    "from sklearn.pipeline import Pipeline, make_union\n",
    "from sklearn.multiclass import OneVsRestClassifier\n",
    "from sklearn.svm import LinearSVC\n",
    "from sklearn.naive_bayes import MultinomialNB\n",
    "from sklearn.metrics import accuracy_score, precision_score, recall_score, f1_score"
   ]
  },
  {
   "cell_type": "code",
   "execution_count": 2,
   "metadata": {},
   "outputs": [
    {
     "name": "stdout",
     "output_type": "stream",
     "text": [
      "[nltk_data] Downloading package punkt to\n",
      "[nltk_data]     C:\\Users\\Nanu\\AppData\\Roaming\\nltk_data...\n",
      "[nltk_data]   Package punkt is already up-to-date!\n",
      "[nltk_data] Downloading package wordnet to\n",
      "[nltk_data]     C:\\Users\\Nanu\\AppData\\Roaming\\nltk_data...\n",
      "[nltk_data]   Package wordnet is already up-to-date!\n",
      "[nltk_data] Downloading package stopwords to\n",
      "[nltk_data]     C:\\Users\\Nanu\\AppData\\Roaming\\nltk_data...\n",
      "[nltk_data]   Package stopwords is already up-to-date!\n"
     ]
    },
    {
     "data": {
      "text/plain": [
       "True"
      ]
     },
     "execution_count": 2,
     "metadata": {},
     "output_type": "execute_result"
    }
   ],
   "source": [
    "nltk.download('punkt')\n",
    "nltk.download('wordnet')\n",
    "nltk.download('stopwords')"
   ]
  },
  {
   "cell_type": "code",
   "execution_count": 3,
   "metadata": {},
   "outputs": [],
   "source": [
    "train = pd.read_csv(\"train.csv\")\n",
    "test = pd.read_csv(\"test.csv\")\n",
    "stop_words = set(stopwords.words('english'))\n",
    "test_labels = pd.read_csv(\"test_labels.csv\")\n",
    "lemmatizer= WordNetLemmatizer()\n",
    "vectorizer = TfidfVectorizer(strip_accents='unicode', analyzer='word', ngram_range=(1,3), norm='l2')\n",
    "\n",
    "\n",
    "# Experimenting with two types of ngrams, one being a 1, 1 and another being 1, 4\n",
    "wordVectorizer = TfidfVectorizer(\n",
    "    sublinear_tf=True,\n",
    "    strip_accents='unicode',\n",
    "    analyzer='word',\n",
    "    token_pattern=r'\\w{1,}',\n",
    "    ngram_range=(1, 1),\n",
    "    max_features=30000)\n",
    "\n",
    "charVectorizer = TfidfVectorizer(\n",
    "    sublinear_tf=True,\n",
    "    strip_accents='unicode',\n",
    "    analyzer='char',\n",
    "    ngram_range=(1, 4),\n",
    "    max_features=30000)\n",
    "\n",
    "multiVectorizer = make_union(wordVectorizer, charVectorizer)"
   ]
  },
  {
   "cell_type": "code",
   "execution_count": 4,
   "metadata": {},
   "outputs": [
    {
     "name": "stdout",
     "output_type": "stream",
     "text": [
      "<class 'pandas.core.frame.DataFrame'>\n",
      "RangeIndex: 159571 entries, 0 to 159570\n",
      "Data columns (total 8 columns):\n",
      "id               159571 non-null object\n",
      "comment_text     159571 non-null object\n",
      "toxic            159571 non-null int64\n",
      "severe_toxic     159571 non-null int64\n",
      "obscene          159571 non-null int64\n",
      "threat           159571 non-null int64\n",
      "insult           159571 non-null int64\n",
      "identity_hate    159571 non-null int64\n",
      "dtypes: int64(6), object(2)\n",
      "memory usage: 9.7+ MB\n"
     ]
    }
   ],
   "source": [
    "train.info()"
   ]
  },
  {
   "cell_type": "code",
   "execution_count": 5,
   "metadata": {},
   "outputs": [
    {
     "data": {
      "text/html": [
       "<div>\n",
       "<style scoped>\n",
       "    .dataframe tbody tr th:only-of-type {\n",
       "        vertical-align: middle;\n",
       "    }\n",
       "\n",
       "    .dataframe tbody tr th {\n",
       "        vertical-align: top;\n",
       "    }\n",
       "\n",
       "    .dataframe thead th {\n",
       "        text-align: right;\n",
       "    }\n",
       "</style>\n",
       "<table border=\"1\" class=\"dataframe\">\n",
       "  <thead>\n",
       "    <tr style=\"text-align: right;\">\n",
       "      <th></th>\n",
       "      <th>id</th>\n",
       "      <th>comment_text</th>\n",
       "      <th>toxic</th>\n",
       "      <th>severe_toxic</th>\n",
       "      <th>obscene</th>\n",
       "      <th>threat</th>\n",
       "      <th>insult</th>\n",
       "      <th>identity_hate</th>\n",
       "    </tr>\n",
       "  </thead>\n",
       "  <tbody>\n",
       "    <tr>\n",
       "      <th>0</th>\n",
       "      <td>0000997932d777bf</td>\n",
       "      <td>Explanation\\nWhy the edits made under my usern...</td>\n",
       "      <td>0</td>\n",
       "      <td>0</td>\n",
       "      <td>0</td>\n",
       "      <td>0</td>\n",
       "      <td>0</td>\n",
       "      <td>0</td>\n",
       "    </tr>\n",
       "    <tr>\n",
       "      <th>1</th>\n",
       "      <td>000103f0d9cfb60f</td>\n",
       "      <td>D'aww! He matches this background colour I'm s...</td>\n",
       "      <td>0</td>\n",
       "      <td>0</td>\n",
       "      <td>0</td>\n",
       "      <td>0</td>\n",
       "      <td>0</td>\n",
       "      <td>0</td>\n",
       "    </tr>\n",
       "    <tr>\n",
       "      <th>2</th>\n",
       "      <td>000113f07ec002fd</td>\n",
       "      <td>Hey man, I'm really not trying to edit war. It...</td>\n",
       "      <td>0</td>\n",
       "      <td>0</td>\n",
       "      <td>0</td>\n",
       "      <td>0</td>\n",
       "      <td>0</td>\n",
       "      <td>0</td>\n",
       "    </tr>\n",
       "    <tr>\n",
       "      <th>3</th>\n",
       "      <td>0001b41b1c6bb37e</td>\n",
       "      <td>\"\\nMore\\nI can't make any real suggestions on ...</td>\n",
       "      <td>0</td>\n",
       "      <td>0</td>\n",
       "      <td>0</td>\n",
       "      <td>0</td>\n",
       "      <td>0</td>\n",
       "      <td>0</td>\n",
       "    </tr>\n",
       "    <tr>\n",
       "      <th>4</th>\n",
       "      <td>0001d958c54c6e35</td>\n",
       "      <td>You, sir, are my hero. Any chance you remember...</td>\n",
       "      <td>0</td>\n",
       "      <td>0</td>\n",
       "      <td>0</td>\n",
       "      <td>0</td>\n",
       "      <td>0</td>\n",
       "      <td>0</td>\n",
       "    </tr>\n",
       "  </tbody>\n",
       "</table>\n",
       "</div>"
      ],
      "text/plain": [
       "                 id                                       comment_text  toxic  \\\n",
       "0  0000997932d777bf  Explanation\\nWhy the edits made under my usern...      0   \n",
       "1  000103f0d9cfb60f  D'aww! He matches this background colour I'm s...      0   \n",
       "2  000113f07ec002fd  Hey man, I'm really not trying to edit war. It...      0   \n",
       "3  0001b41b1c6bb37e  \"\\nMore\\nI can't make any real suggestions on ...      0   \n",
       "4  0001d958c54c6e35  You, sir, are my hero. Any chance you remember...      0   \n",
       "\n",
       "   severe_toxic  obscene  threat  insult  identity_hate  \n",
       "0             0        0       0       0              0  \n",
       "1             0        0       0       0              0  \n",
       "2             0        0       0       0              0  \n",
       "3             0        0       0       0              0  \n",
       "4             0        0       0       0              0  "
      ]
     },
     "execution_count": 5,
     "metadata": {},
     "output_type": "execute_result"
    }
   ],
   "source": [
    "train.head()"
   ]
  },
  {
   "cell_type": "code",
   "execution_count": 6,
   "metadata": {},
   "outputs": [
    {
     "name": "stderr",
     "output_type": "stream",
     "text": [
      "C:\\Users\\Nanu\\Anaconda3-1\\lib\\site-packages\\scipy\\stats\\stats.py:1713: FutureWarning: Using a non-tuple sequence for multidimensional indexing is deprecated; use `arr[tuple(seq)]` instead of `arr[seq]`. In the future this will be interpreted as an array index, `arr[np.array(seq)]`, which will result either in an error or a different result.\n",
      "  return np.add.reduce(sorted[indexer] * weights, axis=axis) / sumval\n"
     ]
    },
    {
     "data": {
      "image/png": "[encoded data removed]",
      "text/plain": [
       "<Figure size 1080x576 with 1 Axes>"
      ]
     },
     "metadata": {},
     "output_type": "display_data"
    }
   ],
   "source": [
    "%matplotlib inline\n",
    "categories = list(train.columns.values)[2:]\n",
    "barPlotData = {}\n",
    "\n",
    "for category in categories: \n",
    "    barPlotData[category] = train[train[category]==1].count()\n",
    "    \n",
    "barPlotDF = pd.DataFrame(data=barPlotData)\n",
    "sns.set(font_scale = 2)\n",
    "plt.figure(figsize=(15,8))\n",
    "ax = sns.barplot(data=barPlotDF)\n",
    "ax.axes.set_title(\"Toxic Comment Classification Data\",fontsize= 20)\n",
    "ax.set_xlabel(\"Categories\",fontsize=15)\n",
    "ax.set_ylabel(\"Number of Comments\",fontsize=15)\n",
    "ax.tick_params(labelsize=11)\n"
   ]
  },
  {
   "cell_type": "code",
   "execution_count": 7,
   "metadata": {},
   "outputs": [
    {
     "name": "stdout",
     "output_type": "stream",
     "text": [
      "<class 'pandas.core.frame.DataFrame'>\n",
      "RangeIndex: 153164 entries, 0 to 153163\n",
      "Data columns (total 2 columns):\n",
      "id              153164 non-null object\n",
      "comment_text    153164 non-null object\n",
      "dtypes: object(2)\n",
      "memory usage: 2.3+ MB\n"
     ]
    }
   ],
   "source": [
    "test.info()"
   ]
  },
  {
   "cell_type": "code",
   "execution_count": 8,
   "metadata": {},
   "outputs": [],
   "source": [
    "def isNonToxic(row): \n",
    "    if (row['threat'] or row['toxic'] or row['severe_toxic'] or row['obscene'] or row['insult'] or row['identity_hate']):\n",
    "        return 0\n",
    "    else: \n",
    "        return 1\n",
    "    \n",
    "def removeEverythingExceptWords(comment): \n",
    "    return re.sub('\\W+',' ', comment)\n",
    "\n",
    "def tokenizeAndLemmatize(comment):\n",
    "    tokens = word_tokenize(comment)\n",
    "    return [ lemmatizer.lemmatize(w) for w in tokens ]\n",
    "\n",
    "def removeStopWords(comment_tokens):\n",
    "    # Method to remove stop words from the comment \n",
    "    # Input argument: The comment_tokens after tokenizing the comment\n",
    "    return ' '.join([w for w in comment_tokens if not w in stop_words])  "
   ]
  },
  {
   "cell_type": "code",
   "execution_count": 9,
   "metadata": {},
   "outputs": [],
   "source": [
    "def compute_confusion_matrix(label, prediction):\n",
    "    true_positives = 0.0\n",
    "    false_positives = 0.0\n",
    "    true_negatives = 0.0\n",
    "    false_negatives = 0.0\n",
    "    \n",
    "    for i in range(len(label)):\n",
    "        if ((label[i] == 0.0) and (prediction[i] == 0.0)):\n",
    "            true_positives += 1.0\n",
    "        elif ((label[i] == 1.0) and (prediction[i] == 1.0)): \n",
    "            true_negatives += 1.0\n",
    "        elif ((label[i] == 0.0) and (prediction[i] == 1.0)):\n",
    "            false_negatives += 1.0\n",
    "        elif ((label[i] == 1.0) and (prediction[i] == 0.0)):\n",
    "            false_positives += 1.0\n",
    "    \n",
    "    return (true_positives, true_negatives, false_positives, false_negatives)\n",
    "\n",
    "def compute_evaluation_metrics(label, prediction):\n",
    "    (true_positives, true_negatives, false_positives, false_negatives) = compute_confusion_matrix(label, prediction)\n",
    "    accuracy = accuracy_score(label, prediction)\n",
    "    precision = precision_score(label, prediction, average='micro')\n",
    "    recall = recall_score(label, prediction, average='micro')\n",
    "    f1score = f1_score(label, prediction, average='micro')\n",
    "    return (accuracy, precision, recall, f1score)"
   ]
  },
  {
   "cell_type": "code",
   "execution_count": 10,
   "metadata": {},
   "outputs": [],
   "source": [
    "trainingData = train\n",
    "trainingData['nonToxic'] = trainingData.apply(lambda row: isNonToxic(row), axis = 1)\n",
    "trainingData['parsedComments'] = trainingData.apply(lambda row: removeEverythingExceptWords(row['comment_text']), axis = 1)\n",
    "trainingData['tokenizedComments'] = trainingData.apply(lambda row: tokenizeAndLemmatize(row['parsedComments']), axis = 1)\n",
    "trainingData['noStopWordComments'] = trainingData.apply(lambda row: removeStopWords(row['tokenizedComments']), axis = 1)"
   ]
  },
  {
   "cell_type": "code",
   "execution_count": 11,
   "metadata": {},
   "outputs": [
    {
     "data": {
      "text/html": [
       "<div>\n",
       "<style scoped>\n",
       "    .dataframe tbody tr th:only-of-type {\n",
       "        vertical-align: middle;\n",
       "    }\n",
       "\n",
       "    .dataframe tbody tr th {\n",
       "        vertical-align: top;\n",
       "    }\n",
       "\n",
       "    .dataframe thead th {\n",
       "        text-align: right;\n",
       "    }\n",
       "</style>\n",
       "<table border=\"1\" class=\"dataframe\">\n",
       "  <thead>\n",
       "    <tr style=\"text-align: right;\">\n",
       "      <th></th>\n",
       "      <th>id</th>\n",
       "      <th>comment_text</th>\n",
       "      <th>toxic</th>\n",
       "      <th>severe_toxic</th>\n",
       "      <th>obscene</th>\n",
       "      <th>threat</th>\n",
       "      <th>insult</th>\n",
       "      <th>identity_hate</th>\n",
       "      <th>nonToxic</th>\n",
       "      <th>parsedComments</th>\n",
       "      <th>tokenizedComments</th>\n",
       "      <th>noStopWordComments</th>\n",
       "    </tr>\n",
       "  </thead>\n",
       "  <tbody>\n",
       "    <tr>\n",
       "      <th>6</th>\n",
       "      <td>0002bcb3da6cb337</td>\n",
       "      <td>COCKSUCKER BEFORE YOU PISS AROUND ON MY WORK</td>\n",
       "      <td>1</td>\n",
       "      <td>1</td>\n",
       "      <td>1</td>\n",
       "      <td>0</td>\n",
       "      <td>1</td>\n",
       "      <td>0</td>\n",
       "      <td>0</td>\n",
       "      <td>COCKSUCKER BEFORE YOU PISS AROUND ON MY WORK</td>\n",
       "      <td>[COCKSUCKER, BEFORE, YOU, PISS, AROUND, ON, MY...</td>\n",
       "      <td>COCKSUCKER BEFORE YOU PISS AROUND ON MY WORK</td>\n",
       "    </tr>\n",
       "    <tr>\n",
       "      <th>12</th>\n",
       "      <td>0005c987bdfc9d4b</td>\n",
       "      <td>Hey... what is it..\\n@ | talk .\\nWhat is it......</td>\n",
       "      <td>1</td>\n",
       "      <td>0</td>\n",
       "      <td>0</td>\n",
       "      <td>0</td>\n",
       "      <td>0</td>\n",
       "      <td>0</td>\n",
       "      <td>0</td>\n",
       "      <td>Hey what is it talk What is it an exclusive gr...</td>\n",
       "      <td>[Hey, what, is, it, talk, What, is, it, an, ex...</td>\n",
       "      <td>Hey talk What exclusive group WP TALIBANS good...</td>\n",
       "    </tr>\n",
       "    <tr>\n",
       "      <th>16</th>\n",
       "      <td>0007e25b2121310b</td>\n",
       "      <td>Bye! \\n\\nDon't look, come or think of comming ...</td>\n",
       "      <td>1</td>\n",
       "      <td>0</td>\n",
       "      <td>0</td>\n",
       "      <td>0</td>\n",
       "      <td>0</td>\n",
       "      <td>0</td>\n",
       "      <td>0</td>\n",
       "      <td>Bye Don t look come or think of comming back T...</td>\n",
       "      <td>[Bye, Don, t, look, come, or, think, of, commi...</td>\n",
       "      <td>Bye Don look come think comming back Tosser</td>\n",
       "    </tr>\n",
       "    <tr>\n",
       "      <th>42</th>\n",
       "      <td>001810bf8c45bf5f</td>\n",
       "      <td>You are gay or antisemmitian? \\n\\nArchangel WH...</td>\n",
       "      <td>1</td>\n",
       "      <td>0</td>\n",
       "      <td>1</td>\n",
       "      <td>0</td>\n",
       "      <td>1</td>\n",
       "      <td>1</td>\n",
       "      <td>0</td>\n",
       "      <td>You are gay or antisemmitian Archangel WHite T...</td>\n",
       "      <td>[You, are, gay, or, antisemmitian, Archangel, ...</td>\n",
       "      <td>You gay antisemmitian Archangel WHite Tiger Me...</td>\n",
       "    </tr>\n",
       "    <tr>\n",
       "      <th>43</th>\n",
       "      <td>00190820581d90ce</td>\n",
       "      <td>FUCK YOUR FILTHY MOTHER IN THE ASS, DRY!</td>\n",
       "      <td>1</td>\n",
       "      <td>0</td>\n",
       "      <td>1</td>\n",
       "      <td>0</td>\n",
       "      <td>1</td>\n",
       "      <td>0</td>\n",
       "      <td>0</td>\n",
       "      <td>FUCK YOUR FILTHY MOTHER IN THE ASS DRY</td>\n",
       "      <td>[FUCK, YOUR, FILTHY, MOTHER, IN, THE, ASS, DRY]</td>\n",
       "      <td>FUCK YOUR FILTHY MOTHER IN THE ASS DRY</td>\n",
       "    </tr>\n",
       "  </tbody>\n",
       "</table>\n",
       "</div>"
      ],
      "text/plain": [
       "                  id                                       comment_text  \\\n",
       "6   0002bcb3da6cb337       COCKSUCKER BEFORE YOU PISS AROUND ON MY WORK   \n",
       "12  0005c987bdfc9d4b  Hey... what is it..\\n@ | talk .\\nWhat is it......   \n",
       "16  0007e25b2121310b  Bye! \\n\\nDon't look, come or think of comming ...   \n",
       "42  001810bf8c45bf5f  You are gay or antisemmitian? \\n\\nArchangel WH...   \n",
       "43  00190820581d90ce           FUCK YOUR FILTHY MOTHER IN THE ASS, DRY!   \n",
       "\n",
       "    toxic  severe_toxic  obscene  threat  insult  identity_hate  nonToxic  \\\n",
       "6       1             1        1       0       1              0         0   \n",
       "12      1             0        0       0       0              0         0   \n",
       "16      1             0        0       0       0              0         0   \n",
       "42      1             0        1       0       1              1         0   \n",
       "43      1             0        1       0       1              0         0   \n",
       "\n",
       "                                       parsedComments  \\\n",
       "6        COCKSUCKER BEFORE YOU PISS AROUND ON MY WORK   \n",
       "12  Hey what is it talk What is it an exclusive gr...   \n",
       "16  Bye Don t look come or think of comming back T...   \n",
       "42  You are gay or antisemmitian Archangel WHite T...   \n",
       "43            FUCK YOUR FILTHY MOTHER IN THE ASS DRY    \n",
       "\n",
       "                                    tokenizedComments  \\\n",
       "6   [COCKSUCKER, BEFORE, YOU, PISS, AROUND, ON, MY...   \n",
       "12  [Hey, what, is, it, talk, What, is, it, an, ex...   \n",
       "16  [Bye, Don, t, look, come, or, think, of, commi...   \n",
       "42  [You, are, gay, or, antisemmitian, Archangel, ...   \n",
       "43    [FUCK, YOUR, FILTHY, MOTHER, IN, THE, ASS, DRY]   \n",
       "\n",
       "                                   noStopWordComments  \n",
       "6        COCKSUCKER BEFORE YOU PISS AROUND ON MY WORK  \n",
       "12  Hey talk What exclusive group WP TALIBANS good...  \n",
       "16        Bye Don look come think comming back Tosser  \n",
       "42  You gay antisemmitian Archangel WHite Tiger Me...  \n",
       "43             FUCK YOUR FILTHY MOTHER IN THE ASS DRY  "
      ]
     },
     "execution_count": 11,
     "metadata": {},
     "output_type": "execute_result"
    }
   ],
   "source": [
    "trainingData[trainingData['nonToxic'] == 0].head()"
   ]
  },
  {
   "cell_type": "code",
   "execution_count": 12,
   "metadata": {},
   "outputs": [],
   "source": [
    "trainTotal, testTotal = train_test_split(trainingData, random_state=42, test_size=0.30)"
   ]
  },
  {
   "cell_type": "markdown",
   "metadata": {},
   "source": [
    "Now we extract the noStopWordComments from the data frames to perform feature engineering"
   ]
  },
  {
   "cell_type": "code",
   "execution_count": 13,
   "metadata": {},
   "outputs": [],
   "source": [
    "vectorizer.fit(trainTotal['noStopWordComments'] )\n",
    "vectorizer.fit(testTotal['noStopWordComments'])\n",
    "trainX_tfidf = vectorizer.transform((trainTotal['noStopWordComments'])) \n",
    "testX_tfidf = vectorizer.transform((testTotal['noStopWordComments']))\n",
    "\n",
    "multiVectorizer.fit(trainTotal['noStopWordComments'])\n",
    "multiVectorizer.fit(testTotal['noStopWordComments'])\n",
    "\n",
    "trainX_multi_tfidf = multiVectorizer.transform((trainTotal['noStopWordComments'])) \n",
    "testX_multi_tfidf = multiVectorizer.transform((testTotal['noStopWordComments']))"
   ]
  },
  {
   "cell_type": "code",
   "execution_count": 14,
   "metadata": {},
   "outputs": [
    {
     "name": "stdout",
     "output_type": "stream",
     "text": [
      "**Learning on toxic comments...**\n",
      "Test accuracy is 0.9345964237967914%, precision is 0.9345964237967914, recall is 0.9345964237967914, and f1 score is 0.9345964237967914\n",
      "\n",
      "\n",
      "**Learning on severe_toxic comments...**\n",
      "Test accuracy is 0.9899732620320856%, precision is 0.9899732620320856, recall is 0.9899732620320856, and f1 score is 0.9899732620320856\n",
      "\n",
      "\n",
      "**Learning on obscene comments...**\n",
      "Test accuracy is 0.9625459558823529%, precision is 0.9625459558823529, recall is 0.9625459558823529, and f1 score is 0.9625459558823529\n",
      "\n",
      "\n",
      "**Learning on threat comments...**\n",
      "Test accuracy is 0.9971590909090909%, precision is 0.9971590909090909, recall is 0.9971590909090909, and f1 score is 0.9971590909090909\n",
      "\n",
      "\n",
      "**Learning on insult comments...**\n",
      "Test accuracy is 0.9587232620320856%, precision is 0.9587232620320856, recall is 0.9587232620320856, and f1 score is 0.9587232620320856\n",
      "\n",
      "\n",
      "**Learning on identity_hate comments...**\n",
      "Test accuracy is 0.9911639371657754%, precision is 0.9911639371657754, recall is 0.9911639371657754, and f1 score is 0.9911639371657754\n",
      "\n",
      "\n",
      "Wall time: 4min 47s\n"
     ]
    }
   ],
   "source": [
    "%%time\n",
    "\n",
    "# Using pipeline for applying logistic regression and one vs rest classifier with one vectorizer. \n",
    "logisticRegressionPipeline = Pipeline([\n",
    "                ('clf', OneVsRestClassifier(LogisticRegression(solver='lbfgs'), n_jobs=-1)),\n",
    "            ])\n",
    "\n",
    "for category in categories:\n",
    "    print('**Learning on {} comments...**'.format(category))\n",
    "    \n",
    "    # Training logistic regression model on train data\n",
    "    logisticRegressionPipeline.fit(trainX_tfidf, trainTotal[category])\n",
    "    \n",
    "    # calculating test accuracy\n",
    "    prediction = logisticRegressionPipeline.predict(testX_tfidf)\n",
    "    (accuracy, precision, recall, f1score) = compute_evaluation_metrics((testTotal[category]).values, prediction)\n",
    "    print('Test accuracy is {}%, precision is {}, recall is {}, and f1 score is {}'.format(accuracy, precision, recall, f1score))\n",
    "    print(\"\\n\")\n",
    "    "
   ]
  },
  {
   "cell_type": "code",
   "execution_count": 15,
   "metadata": {},
   "outputs": [
    {
     "name": "stdout",
     "output_type": "stream",
     "text": [
      "**Learning on toxic comments...**\n",
      "Test accuracy is 0.9616268382352942%, precision is 0.9616268382352942, recall is 0.9616268382352942, and f1 score is 0.961626838235294\n",
      "\n",
      "\n",
      "**Learning on severe_toxic comments...**\n",
      "Test accuracy is 0.990704378342246%, precision is 0.990704378342246, recall is 0.990704378342246, and f1 score is 0.990704378342246\n",
      "\n",
      "\n",
      "**Learning on obscene comments...**\n",
      "Test accuracy is 0.9792780748663101%, precision is 0.9792780748663101, recall is 0.9792780748663101, and f1 score is 0.9792780748663101\n",
      "\n",
      "\n",
      "**Learning on threat comments...**\n",
      "Test accuracy is 0.9974933155080213%, precision is 0.9974933155080213, recall is 0.9974933155080213, and f1 score is 0.9974933155080213\n",
      "\n",
      "\n",
      "**Learning on insult comments...**\n",
      "Test accuracy is 0.9719878008021391%, precision is 0.9719878008021391, recall is 0.9719878008021391, and f1 score is 0.9719878008021391\n",
      "\n",
      "\n",
      "**Learning on identity_hate comments...**\n",
      "Test accuracy is 0.9923128342245989%, precision is 0.9923128342245989, recall is 0.9923128342245989, and f1 score is 0.9923128342245989\n",
      "\n",
      "\n"
     ]
    }
   ],
   "source": [
    "# WARNING: DO NOT RUN\n",
    "\n",
    "# Using pipeline for applying logistic regression and one vs rest classifier with multi vectorizer. \n",
    "logisticRegressionPipeline = Pipeline([\n",
    "                ('clf', OneVsRestClassifier(LogisticRegression(solver='lbfgs'), n_jobs=-1)),\n",
    "            ])\n",
    "\n",
    "for category in categories:\n",
    "    print('**Learning on {} comments...**'.format(category))\n",
    "    \n",
    "    # Training logistic regression model on train data\n",
    "    logisticRegressionPipeline.fit(trainX_multi_tfidf, trainTotal[category])\n",
    "    \n",
    "    # calculating test accuracy\n",
    "    prediction = logisticRegressionPipeline.predict(testX_multi_tfidf)\n",
    "    (accuracy, precision, recall, f1score) = compute_evaluation_metrics((testTotal[category]).values, prediction)\n",
    "    print('Test accuracy is {}%, precision is {}, recall is {}, and f1 score is {}'.format(accuracy, precision, recall, f1score))\n",
    "    print(\"\\n\")"
   ]
  },
  {
   "cell_type": "code",
   "execution_count": 16,
   "metadata": {},
   "outputs": [
    {
     "name": "stdout",
     "output_type": "stream",
     "text": [
      "**Learning on toxic comments...**\n",
      "Test accuracy is 0.9477565173796791%, precision is 0.9477565173796791, recall is 0.9477565173796791, and f1 score is 0.9477565173796791\n",
      "\n",
      "\n",
      "**Learning on severe_toxic comments...**\n",
      "Test accuracy is 0.9901612633689839%, precision is 0.9901612633689839, recall is 0.9901612633689839, and f1 score is 0.9901612633689839\n",
      "\n",
      "\n",
      "**Learning on obscene comments...**\n",
      "Test accuracy is 0.9707344585561497%, precision is 0.9707344585561497, recall is 0.9707344585561497, and f1 score is 0.9707344585561497\n",
      "\n",
      "\n",
      "**Learning on threat comments...**\n",
      "Test accuracy is 0.9972635360962567%, precision is 0.9972635360962567, recall is 0.9972635360962567, and f1 score is 0.9972635360962567\n",
      "\n",
      "\n",
      "**Learning on insult comments...**\n",
      "Test accuracy is 0.9625877339572193%, precision is 0.9625877339572193, recall is 0.9625877339572193, and f1 score is 0.9625877339572193\n",
      "\n",
      "\n",
      "**Learning on identity_hate comments...**\n",
      "Test accuracy is 0.9912892713903744%, precision is 0.9912892713903744, recall is 0.9912892713903744, and f1 score is 0.9912892713903744\n",
      "\n",
      "\n",
      "Wall time: 20.9 s\n"
     ]
    }
   ],
   "source": [
    "%%time \n",
    "\n",
    "supportVectorMachinePipeline = Pipeline([\n",
    "        ('svm', OneVsRestClassifier(LinearSVC(random_state=0), n_jobs=-1)),\n",
    "    ])\n",
    "\n",
    "for category in categories:\n",
    "    print('**Learning on {} comments...**'.format(category))\n",
    "    \n",
    "    # Training SVM on train data\n",
    "    supportVectorMachinePipeline.fit(trainX_tfidf, trainTotal[category])\n",
    "    \n",
    "    # calculating test accuracy\n",
    "    prediction = supportVectorMachinePipeline.predict(testX_tfidf)\n",
    "    (accuracy, precision, recall, f1score) = compute_evaluation_metrics((testTotal[category]).values, prediction)\n",
    "    print('Test accuracy is {}%, precision is {}, recall is {}, and f1 score is {}'.format(accuracy, precision, recall, f1score))\n",
    "    print(\"\\n\")\n"
   ]
  },
  {
   "cell_type": "markdown",
   "metadata": {},
   "source": [
    "Let's also try ensembling the models to get a clearer view on the performance."
   ]
  },
  {
   "cell_type": "code",
   "execution_count": 17,
   "metadata": {},
   "outputs": [
    {
     "name": "stderr",
     "output_type": "stream",
     "text": [
      "C:\\Users\\Nanu\\Anaconda3-1\\lib\\site-packages\\sklearn\\ensemble\\weight_boosting.py:29: DeprecationWarning: numpy.core.umath_tests is an internal NumPy module and should not be imported. It will be removed in a future NumPy release.\n",
      "  from numpy.core.umath_tests import inner1d\n"
     ]
    },
    {
     "name": "stdout",
     "output_type": "stream",
     "text": [
      "**Learning on toxic comments...**\n",
      "Test accuracy is 0.9243816844919787%, precision is 0.9243816844919787, recall is 0.9243816844919787, and f1 score is 0.9243816844919787\n",
      "\n",
      "\n",
      "**Learning on severe_toxic comments...**\n",
      "Test accuracy is 0.9892003676470589%, precision is 0.9892003676470589, recall is 0.9892003676470589, and f1 score is 0.9892003676470589\n",
      "\n",
      "\n",
      "**Learning on obscene comments...**\n",
      "Test accuracy is 0.9567805815508021%, precision is 0.9567805815508021, recall is 0.9567805815508021, and f1 score is 0.9567805815508021\n",
      "\n",
      "\n",
      "**Learning on threat comments...**\n",
      "Test accuracy is 0.9971173128342246%, precision is 0.9971173128342246, recall is 0.9971173128342246, and f1 score is 0.9971173128342246\n",
      "\n",
      "\n",
      "**Learning on insult comments...**\n",
      "Test accuracy is 0.9569268048128342%, precision is 0.9569268048128342, recall is 0.9569268048128342, and f1 score is 0.9569268048128342\n",
      "\n",
      "\n",
      "**Learning on identity_hate comments...**\n",
      "Test accuracy is 0.9909132687165776%, precision is 0.9909132687165776, recall is 0.9909132687165776, and f1 score is 0.9909132687165776\n",
      "\n",
      "\n"
     ]
    }
   ],
   "source": [
    "from sklearn.ensemble import RandomForestClassifier\n",
    "\n",
    "clf = RandomForestClassifier(n_estimators=2)\n",
    "\n",
    "for category in categories:\n",
    "    print('**Learning on {} comments...**'.format(category))\n",
    "    \n",
    "    # Training SVM on train data\n",
    "    clf.fit(trainX_tfidf, trainTotal[category])\n",
    "    \n",
    "    # calculating test accuracy\n",
    "    prediction = clf.predict(testX_tfidf)\n",
    "    (accuracy, precision, recall, f1score) = compute_evaluation_metrics((testTotal[category]).values, prediction)\n",
    "    print('Test accuracy is {}%, precision is {}, recall is {}, and f1 score is {}'.format(accuracy, precision, recall, f1score))\n",
    "    print(\"\\n\")\n"
   ]
  },
  {
   "cell_type": "code",
   "execution_count": 18,
   "metadata": {},
   "outputs": [
    {
     "name": "stdout",
     "output_type": "stream",
     "text": [
      "**Learning on toxic comments...**\n",
      "Test accuracy is 0.908944685828877%, precision is 0.908944685828877, recall is 0.908944685828877, and f1 score is 0.908944685828877\n",
      "\n",
      "\n",
      "**Learning on severe_toxic comments...**\n",
      "Test accuracy is 0.9898479278074866%, precision is 0.9898479278074866, recall is 0.9898479278074866, and f1 score is 0.9898479278074866\n",
      "\n",
      "\n",
      "**Learning on obscene comments...**\n",
      "Test accuracy is 0.9477774064171123%, precision is 0.9477774064171123, recall is 0.9477774064171123, and f1 score is 0.9477774064171123\n",
      "\n",
      "\n",
      "**Learning on threat comments...**\n",
      "Test accuracy is 0.9971590909090909%, precision is 0.9971590909090909, recall is 0.9971590909090909, and f1 score is 0.9971590909090909\n",
      "\n",
      "\n",
      "**Learning on insult comments...**\n",
      "Test accuracy is 0.9503885360962567%, precision is 0.9503885360962567, recall is 0.9503885360962567, and f1 score is 0.9503885360962567\n",
      "\n",
      "\n",
      "**Learning on identity_hate comments...**\n",
      "Test accuracy is 0.990975935828877%, precision is 0.990975935828877, recall is 0.990975935828877, and f1 score is 0.990975935828877\n",
      "\n",
      "\n",
      "Wall time: 2min\n"
     ]
    }
   ],
   "source": [
    "%%time \n",
    "\n",
    "naiveBayesPipeline = Pipeline([\n",
    "        ('nb', OneVsRestClassifier(MultinomialNB(), n_jobs=-1)),\n",
    "    ])\n",
    "\n",
    "for category in categories:\n",
    "    print('**Learning on {} comments...**'.format(category))\n",
    "    \n",
    "    # Training SVM on train data\n",
    "    naiveBayesPipeline.fit(trainX_tfidf, trainTotal[category])\n",
    "    \n",
    "    # calculating test accuracy\n",
    "    prediction = naiveBayesPipeline.predict(testX_tfidf)\n",
    "    (accuracy, precision, recall, f1score) = compute_evaluation_metrics((testTotal[category]).values, prediction)\n",
    "    print('Test accuracy is {}%, precision is {}, recall is {}, and f1 score is {}'.format(accuracy, precision, recall, f1score))\n",
    "    print(\"\\n\")"
   ]
  },
  {
   "cell_type": "markdown",
   "metadata": {},
   "source": [
    "Now, let's consider this as a binary classification problem, we have a label called nonToxic comments, which can help us treat this multilabel problem as a binary classification one. "
   ]
  },
  {
   "cell_type": "code",
   "execution_count": 19,
   "metadata": {},
   "outputs": [
    {
     "name": "stdout",
     "output_type": "stream",
     "text": [
      "Naive Bayes (One vs. One) Test accuracy is 0.8983330548128342%, precision is 0.8983330548128342, recall is 0.8983330548128342, and f1 score is 0.8983330548128342\n",
      "\n",
      "\n",
      "SVM (One vs. One) Test accuracy is 0.9462942847593583%, precision is 0.9462942847593583, recall is 0.9462942847593583, and f1 score is 0.9462942847593583\n",
      "\n",
      "\n",
      "Logistic Regression (One vs. One) Test accuracy is 0.9315466243315508%, precision is 0.9315466243315508, recall is 0.9315466243315508, and f1 score is 0.9315466243315508\n",
      "\n",
      "\n",
      "Random Forest (One vs. One) Test accuracy is 0.9053517713903744%, precision is 0.9053517713903744, recall is 0.9053517713903744, and f1 score is 0.9053517713903744\n",
      "\n",
      "\n"
     ]
    }
   ],
   "source": [
    "from sklearn.multiclass import OneVsOneClassifier\n",
    "\n",
    "nbOneVsOnePipeline = Pipeline([('nb', OneVsOneClassifier(MultinomialNB(), n_jobs=-1)),])\n",
    "\n",
    "svmOneVsOnePipeline = Pipeline([('svm', OneVsOneClassifier(LinearSVC(random_state=0), n_jobs=-1)),])\n",
    "\n",
    "logisticRegressionOneVsOnePipeline = Pipeline([('clf', OneVsOneClassifier(LogisticRegression(solver='lbfgs'), n_jobs=-1)),])\n",
    "\n",
    "randomForestOneVsOne = RandomForestClassifier(n_estimators=2)\n",
    "\n",
    "\n",
    "nbOneVsOnePipeline.fit(trainX_tfidf, trainTotal['nonToxic'])\n",
    "svmOneVsOnePipeline.fit(trainX_tfidf, trainTotal['nonToxic'])\n",
    "logisticRegressionOneVsOnePipeline.fit(trainX_tfidf, trainTotal['nonToxic'])\n",
    "randomForestOneVsOne.fit(trainX_tfidf, trainTotal['nonToxic'])\n",
    "\n",
    "\n",
    "nbPred = nbOneVsOnePipeline.predict(testX_tfidf)\n",
    "svmPred = svmOneVsOnePipeline.predict(testX_tfidf)\n",
    "lrPred = logisticRegressionOneVsOnePipeline.predict(testX_tfidf)\n",
    "rfPred = randomForestOneVsOne.predict(testX_tfidf)\n",
    "\n",
    "(accuracy, precision, recall, f1score) = compute_evaluation_metrics((testTotal['nonToxic']).values, nbPred)\n",
    "print('Naive Bayes (One vs. One) Test accuracy is {}%, precision is {}, recall is {}, and f1 score is {}'.format(accuracy, precision, recall, f1score))\n",
    "print(\"\\n\")\n",
    "\n",
    "(accuracy, precision, recall, f1score) = compute_evaluation_metrics((testTotal['nonToxic']).values, svmPred)\n",
    "print('SVM (One vs. One) Test accuracy is {}%, precision is {}, recall is {}, and f1 score is {}'.format(accuracy, precision, recall, f1score))\n",
    "print(\"\\n\")\n",
    "\n",
    "(accuracy, precision, recall, f1score) = compute_evaluation_metrics((testTotal['nonToxic']).values, lrPred)\n",
    "print('Logistic Regression (One vs. One) Test accuracy is {}%, precision is {}, recall is {}, and f1 score is {}'.format(accuracy, precision, recall, f1score))\n",
    "print(\"\\n\")\n",
    "\n",
    "(accuracy, precision, recall, f1score) = compute_evaluation_metrics((testTotal['nonToxic']).values, rfPred)\n",
    "print('Random Forest (One vs. One) Test accuracy is {}%, precision is {}, recall is {}, and f1 score is {}'.format(accuracy, precision, recall, f1score))\n",
    "print(\"\\n\")"
   ]
  },
  {
   "cell_type": "markdown",
   "metadata": {},
   "source": [
    "So far we have been evaluating only the training and test models that we derived from the training set. Now it's time to check the performance on the actual test set which we have from the dataset. However, we need to transform the test set in the same way we did the trainingData. "
   ]
  },
  {
   "cell_type": "code",
   "execution_count": 20,
   "metadata": {},
   "outputs": [],
   "source": [
    "testData = test"
   ]
  },
  {
   "cell_type": "code",
   "execution_count": 21,
   "metadata": {},
   "outputs": [
    {
     "data": {
      "text/html": [
       "<div>\n",
       "<style scoped>\n",
       "    .dataframe tbody tr th:only-of-type {\n",
       "        vertical-align: middle;\n",
       "    }\n",
       "\n",
       "    .dataframe tbody tr th {\n",
       "        vertical-align: top;\n",
       "    }\n",
       "\n",
       "    .dataframe thead th {\n",
       "        text-align: right;\n",
       "    }\n",
       "</style>\n",
       "<table border=\"1\" class=\"dataframe\">\n",
       "  <thead>\n",
       "    <tr style=\"text-align: right;\">\n",
       "      <th></th>\n",
       "      <th>id</th>\n",
       "      <th>comment_text</th>\n",
       "    </tr>\n",
       "  </thead>\n",
       "  <tbody>\n",
       "    <tr>\n",
       "      <th>0</th>\n",
       "      <td>00001cee341fdb12</td>\n",
       "      <td>Yo bitch Ja Rule is more succesful then you'll...</td>\n",
       "    </tr>\n",
       "    <tr>\n",
       "      <th>1</th>\n",
       "      <td>0000247867823ef7</td>\n",
       "      <td>== From RfC == \\n\\n The title is fine as it is...</td>\n",
       "    </tr>\n",
       "    <tr>\n",
       "      <th>2</th>\n",
       "      <td>00013b17ad220c46</td>\n",
       "      <td>\" \\n\\n == Sources == \\n\\n * Zawe Ashton on Lap...</td>\n",
       "    </tr>\n",
       "    <tr>\n",
       "      <th>3</th>\n",
       "      <td>00017563c3f7919a</td>\n",
       "      <td>:If you have a look back at the source, the in...</td>\n",
       "    </tr>\n",
       "    <tr>\n",
       "      <th>4</th>\n",
       "      <td>00017695ad8997eb</td>\n",
       "      <td>I don't anonymously edit articles at all.</td>\n",
       "    </tr>\n",
       "  </tbody>\n",
       "</table>\n",
       "</div>"
      ],
      "text/plain": [
       "                 id                                       comment_text\n",
       "0  00001cee341fdb12  Yo bitch Ja Rule is more succesful then you'll...\n",
       "1  0000247867823ef7  == From RfC == \\n\\n The title is fine as it is...\n",
       "2  00013b17ad220c46  \" \\n\\n == Sources == \\n\\n * Zawe Ashton on Lap...\n",
       "3  00017563c3f7919a  :If you have a look back at the source, the in...\n",
       "4  00017695ad8997eb          I don't anonymously edit articles at all."
      ]
     },
     "execution_count": 21,
     "metadata": {},
     "output_type": "execute_result"
    }
   ],
   "source": [
    "test.head()"
   ]
  },
  {
   "cell_type": "code",
   "execution_count": 22,
   "metadata": {},
   "outputs": [],
   "source": [
    "testData['parsedComments'] = testData.apply(lambda row: removeEverythingExceptWords(row['comment_text']), axis = 1)\n",
    "testData['tokenizedComments'] = testData.apply(lambda row: tokenizeAndLemmatize(row['parsedComments']), axis = 1)\n",
    "testData['noStopWordComments'] = testData.apply(lambda row: removeStopWords(row['tokenizedComments']), axis = 1)"
   ]
  },
  {
   "cell_type": "code",
   "execution_count": 23,
   "metadata": {},
   "outputs": [],
   "source": [
    "#vectorizer.fit(testData['noStopWordComments'])"
   ]
  },
  {
   "cell_type": "code",
   "execution_count": 24,
   "metadata": {},
   "outputs": [],
   "source": [
    "testX_tfidf_actual = vectorizer.transform(testData['noStopWordComments'])"
   ]
  },
  {
   "cell_type": "code",
   "execution_count": 25,
   "metadata": {},
   "outputs": [],
   "source": [
    "test_labels['nonToxic'] = test_labels.apply(lambda row: isNonToxic(row), axis = 1)"
   ]
  },
  {
   "cell_type": "code",
   "execution_count": 26,
   "metadata": {},
   "outputs": [
    {
     "data": {
      "text/plain": [
       "(47872, 2582084)"
      ]
     },
     "execution_count": 26,
     "metadata": {},
     "output_type": "execute_result"
    }
   ],
   "source": [
    "testX_tfidf.shape\n"
   ]
  },
  {
   "cell_type": "code",
   "execution_count": 27,
   "metadata": {},
   "outputs": [
    {
     "data": {
      "text/plain": [
       "(153164, 2582084)"
      ]
     },
     "execution_count": 27,
     "metadata": {},
     "output_type": "execute_result"
    }
   ],
   "source": [
    "testX_tfidf_actual.shape"
   ]
  },
  {
   "cell_type": "code",
   "execution_count": 28,
   "metadata": {},
   "outputs": [
    {
     "name": "stdout",
     "output_type": "stream",
     "text": [
      "Naive Bayes (One vs. One) Test accuracy is 0.3769488913843984%, precision is 0.3769488913843984, recall is 0.3769488913843984, and f1 score is 0.3769488913843984\n",
      "\n",
      "\n",
      "SVM (One vs. One) Test accuracy is 0.5277415058368807%, precision is 0.5277415058368807, recall is 0.5277415058368807, and f1 score is 0.5277415058368807\n",
      "\n",
      "\n",
      "Logistic Regression (One vs. One) Test accuracy is 0.49854404429239246%, precision is 0.49854404429239246, recall is 0.49854404429239246, and f1 score is 0.49854404429239246\n",
      "\n",
      "\n",
      "Random Forest (One vs. One) Test accuracy is 0.5205531325899037%, precision is 0.5205531325899037, recall is 0.5205531325899037, and f1 score is 0.5205531325899037\n",
      "\n",
      "\n"
     ]
    }
   ],
   "source": [
    "#Evaluating each model on the test set now: \n",
    "\n",
    "metricsDF = pd.DataFrame()\n",
    "\n",
    "nbPred = nbOneVsOnePipeline.predict(testX_tfidf_actual)\n",
    "svmPred = svmOneVsOnePipeline.predict(testX_tfidf_actual)\n",
    "lrPred = logisticRegressionOneVsOnePipeline.predict(testX_tfidf_actual)\n",
    "rfPred = randomForestOneVsOne.predict(testX_tfidf_actual)\n",
    "\n",
    "(accuracy, precision, recall, f1score) = compute_evaluation_metrics((test_labels['nonToxic']).values, nbPred)\n",
    "print('Naive Bayes (One vs. One) Test accuracy is {}%, precision is {}, recall is {}, and f1 score is {}'.format(accuracy, precision, recall, f1score))\n",
    "print(\"\\n\")\n",
    "\n",
    "(accuracy, precision, recall, f1score) = compute_evaluation_metrics((test_labels['nonToxic']).values, svmPred)\n",
    "print('SVM (One vs. One) Test accuracy is {}%, precision is {}, recall is {}, and f1 score is {}'.format(accuracy, precision, recall, f1score))\n",
    "print(\"\\n\")\n",
    "\n",
    "(accuracy, precision, recall, f1score) = compute_evaluation_metrics((test_labels['nonToxic']).values, lrPred)\n",
    "print('Logistic Regression (One vs. One) Test accuracy is {}%, precision is {}, recall is {}, and f1 score is {}'.format(accuracy, precision, recall, f1score))\n",
    "print(\"\\n\")\n",
    "\n",
    "(accuracy, precision, recall, f1score) = compute_evaluation_metrics((test_labels['nonToxic']).values, rfPred)\n",
    "print('Random Forest (One vs. One) Test accuracy is {}%, precision is {}, recall is {}, and f1 score is {}'.format(accuracy, precision, recall, f1score))\n",
    "print(\"\\n\")\n",
    "    "
   ]
  },
  {
   "cell_type": "markdown",
   "metadata": {},
   "source": [
    "Now let's try predicting the per label class on the actual test set from the problem. "
   ]
  },
  {
   "cell_type": "code",
   "execution_count": 30,
   "metadata": {},
   "outputs": [
    {
     "name": "stdout",
     "output_type": "stream",
     "text": [
      "**Testing on toxic comments.. with Naive Bayes Pipeline.**\n",
      "Test accuracy is 0.3779478206367031%, precision is 0.3779478206367031, recall is 0.3779478206367031, and f1 score is 0.3779478206367031\n",
      "\n",
      "\n",
      "**Testing on severe_toxic comments.. with Naive Bayes Pipeline.**\n",
      "Test accuracy is 0.4153129978323888%, precision is 0.4153129978323888, recall is 0.4153129978323888, and f1 score is 0.4153129978323888\n",
      "\n",
      "\n",
      "**Testing on obscene comments.. with Naive Bayes Pipeline.**\n",
      "Test accuracy is 0.3936107701548667%, precision is 0.3936107701548667, recall is 0.3936107701548667, and f1 score is 0.3936107701548667\n",
      "\n",
      "\n",
      "**Testing on threat comments.. with Naive Bayes Pipeline.**\n",
      "Test accuracy is 0.41633151393277795%, precision is 0.41633151393277795, recall is 0.41633151393277795, and f1 score is 0.41633151393277795\n",
      "\n",
      "\n",
      "**Testing on insult comments.. with Naive Bayes Pipeline.**\n",
      "Test accuracy is 0.39533441278629444%, precision is 0.39533441278629444, recall is 0.39533441278629444, and f1 score is 0.39533441278629444\n",
      "\n",
      "\n",
      "**Testing on identity_hate comments.. with Naive Bayes Pipeline.**\n",
      "Test accuracy is 0.4130605103026821%, precision is 0.4130605103026821, recall is 0.4130605103026821, and f1 score is 0.4130605103026821\n",
      "\n",
      "\n",
      "Wall time: 10.1 s\n"
     ]
    }
   ],
   "source": [
    "%%time \n",
    "\n",
    "for category in categories:\n",
    "    print('**Testing on {} comments.. with Naive Bayes Pipeline.**'.format(category))\n",
    "    \n",
    "    # calculating test accuracy\n",
    "    prediction = naiveBayesPipeline.predict(testX_tfidf_actual)\n",
    "    (accuracy, precision, recall, f1score) = compute_evaluation_metrics((test_labels[category]).values, prediction)\n",
    "    print('Test accuracy is {}%, precision is {}, recall is {}, and f1 score is {}'.format(accuracy, precision, recall, f1score))\n",
    "    print(\"\\n\")"
   ]
  },
  {
   "cell_type": "code",
   "execution_count": 31,
   "metadata": {},
   "outputs": [
    {
     "name": "stdout",
     "output_type": "stream",
     "text": [
      "**Testing on toxic comments with Random Forest Classifier...**\n",
      "Test accuracy is 0.37773889425713614%, precision is 0.37773889425713614, recall is 0.37773889425713614, and f1 score is 0.37773889425713614\n",
      "\n",
      "\n",
      "**Testing on severe_toxic comments with Random Forest Classifier...**\n",
      "Test accuracy is 0.41463398709879606%, precision is 0.41463398709879606, recall is 0.41463398709879606, and f1 score is 0.41463398709879606\n",
      "\n",
      "\n",
      "**Testing on obscene comments with Random Forest Classifier...**\n",
      "Test accuracy is 0.3933626700791309%, precision is 0.3933626700791309, recall is 0.3933626700791309, and f1 score is 0.39336267007913084\n",
      "\n",
      "\n",
      "**Testing on threat comments with Random Forest Classifier...**\n",
      "Test accuracy is 0.4155741558068476%, precision is 0.4155741558068476, recall is 0.4155741558068476, and f1 score is 0.4155741558068476\n",
      "\n",
      "\n",
      "**Testing on insult comments with Random Forest Classifier...**\n",
      "Test accuracy is 0.3950471390143898%, precision is 0.3950471390143898, recall is 0.3950471390143898, and f1 score is 0.39504713901438976\n",
      "\n",
      "\n",
      "**Testing on identity_hate comments with Random Forest Classifier...**\n",
      "Test accuracy is 0.4124990206575958%, precision is 0.4124990206575958, recall is 0.4124990206575958, and f1 score is 0.4124990206575958\n",
      "\n",
      "\n"
     ]
    }
   ],
   "source": [
    "from sklearn.ensemble import RandomForestClassifier\n",
    "\n",
    "for category in categories:\n",
    "    print('**Testing on {} comments with Random Forest Classifier...**'.format(category))\n",
    "    \n",
    "    # calculating test accuracy\n",
    "    prediction = clf.predict(testX_tfidf_actual)\n",
    "    (accuracy, precision, recall, f1score) = compute_evaluation_metrics((test_labels[category]).values, prediction)\n",
    "    print('Test accuracy is {}%, precision is {}, recall is {}, and f1 score is {}'.format(accuracy, precision, recall, f1score))\n",
    "    print(\"\\n\")"
   ]
  },
  {
   "cell_type": "code",
   "execution_count": 32,
   "metadata": {},
   "outputs": [
    {
     "name": "stdout",
     "output_type": "stream",
     "text": [
      "**Learning on toxic comments...**\n",
      "Test accuracy is 0.379018568331984%, precision is 0.379018568331984, recall is 0.379018568331984, and f1 score is 0.379018568331984\n",
      "\n",
      "\n",
      "**Learning on severe_toxic comments...**\n",
      "Test accuracy is 0.41411167114987857%, precision is 0.41411167114987857, recall is 0.41411167114987857, and f1 score is 0.41411167114987857\n",
      "\n",
      "\n",
      "**Learning on obscene comments...**\n",
      "Test accuracy is 0.39395027552166306%, precision is 0.39395027552166306, recall is 0.39395027552166306, and f1 score is 0.39395027552166306\n",
      "\n",
      "\n",
      "**Learning on threat comments...**\n",
      "Test accuracy is 0.41462092920007315%, precision is 0.41462092920007315, recall is 0.41462092920007315, and f1 score is 0.4146209292000731\n",
      "\n",
      "\n",
      "**Learning on insult comments...**\n",
      "Test accuracy is 0.3959220182288266%, precision is 0.3959220182288266, recall is 0.3959220182288266, and f1 score is 0.3959220182288266\n",
      "\n",
      "\n",
      "**Learning on identity_hate comments...**\n",
      "Test accuracy is 0.413713405238829%, precision is 0.413713405238829, recall is 0.413713405238829, and f1 score is 0.413713405238829\n",
      "\n",
      "\n",
      "Wall time: 11.3 s\n"
     ]
    }
   ],
   "source": [
    "%%time \n",
    "\n",
    "for category in categories:\n",
    "    print('**Learning on {} comments...**'.format(category))\n",
    "    \n",
    "    \n",
    "    # calculating test accuracy\n",
    "    prediction = supportVectorMachinePipeline.predict(testX_tfidf_actual)\n",
    "    (accuracy, precision, recall, f1score) = compute_evaluation_metrics((test_labels[category]).values, prediction)\n",
    "    print('Test accuracy is {}%, precision is {}, recall is {}, and f1 score is {}'.format(accuracy, precision, recall, f1score))\n",
    "    print(\"\\n\")"
   ]
  },
  {
   "cell_type": "code",
   "execution_count": null,
   "metadata": {},
   "outputs": [],
   "source": []
  },
  {
   "cell_type": "code",
   "execution_count": null,
   "metadata": {},
   "outputs": [],
   "source": []
  },
  {
   "cell_type": "code",
   "execution_count": null,
   "metadata": {},
   "outputs": [],
   "source": []
  },
  {
   "cell_type": "code",
   "execution_count": null,
   "metadata": {},
   "outputs": [],
   "source": []
  }
 ],
 "metadata": {
  "kernelspec": {
   "display_name": "Python 3",
   "language": "python",
   "name": "python3"
  },
  "language_info": {
   "codemirror_mode": {
    "name": "ipython",
    "version": 3
   },
   "file_extension": ".py",
   "mimetype": "text/x-python",
   "name": "python",
   "nbconvert_exporter": "python",
   "pygments_lexer": "ipython3",
   "version": "3.7.0"
  }
 },
 "nbformat": 4,
 "nbformat_minor": 2
}
